{
 "metadata": {
  "name": "BadwordFilter"
 },
 "nbformat": 3,
 "nbformat_minor": 0,
 "worksheets": [
  {
   "cells": [
    {
     "cell_type": "code",
     "collapsed": false,
     "input": [
      "#Load a list of offensive words to filter out...\n",
      "bad_words = [line.strip() for line in open(\"bad-words.txt\").readlines()]"
     ],
     "language": "python",
     "metadata": {},
     "outputs": [],
     "prompt_number": 25
    },
    {
     "cell_type": "code",
     "collapsed": false,
     "input": [
      "live_tweets=[\"RT @kassiechurch1: I don't refer to strippers as adult entertainers. I refer to them as whores looking For money. #sorrynotsorry\",'RT @EthanRants: I love when girls love booster juice and Blue Jays. All of the \"I love BJ\\'s\" photos makes me happy in the pants #sorrynotso\u2026','ljli fucking']"
     ],
     "language": "python",
     "metadata": {},
     "outputs": [],
     "prompt_number": 26
    },
    {
     "cell_type": "code",
     "collapsed": false,
     "input": [
      "import re\n",
      "def process(tweet):\n",
      "    tweet_out=tweet\n",
      "    regex=re.compile(r'http:')\n",
      "    tweet_out = (regex.split(tweet_out))[0]\n",
      "    regex=re.compile(r':')\n",
      "    tweet_out = regex.sub(' : ',tweet_out)\n",
      "    regex=re.compile(r';')\n",
      "    tweet_out = regex.sub(' ; ',tweet_out)\n",
      "    regex=re.compile(r',')\n",
      "    tweet_out = regex.sub(' , ',tweet_out)\n",
      "    regex=re.compile(r'-')\n",
      "    tweet_out = regex.sub(' - ',tweet_out)\n",
      "    regex=re.compile(r'\\?')\n",
      "    tweet_out = regex.sub(' ? ',tweet_out)\n",
      "    regex=re.compile(r'!')\n",
      "    tweet_out = regex.sub(' ! ',tweet_out)\n",
      "    regex=re.compile(r'-')\n",
      "    tweet_out = regex.sub(' - ',tweet_out)\n",
      "    regex=re.compile(r\"'\")\n",
      "    tweet_out = regex.sub(r\" ' \",tweet_out)\n",
      "    regex=re.compile(r'\\.')\n",
      "    tweet_out = regex.sub(r' . ',tweet_out)\n",
      "    regex=re.compile(r'\"')\n",
      "    tweet_out = regex.sub(r' \" ',tweet_out)\n",
      "    regex=re.compile(r'@[A-Za-z0-9_]*')\n",
      "    tweet_out = regex.sub('@',tweet_out)\n",
      "    regex=re.compile(r'#[A-Za-z0-9_]*')\n",
      "    tweet_out = regex.sub('#',tweet_out)\n",
      "    regex=re.compile(r'\\\\U')\n",
      "    tweet_out = regex.sub(r' \\\\U ',tweet_out)\n",
      "    return tweet_out"
     ],
     "language": "python",
     "metadata": {},
     "outputs": [],
     "prompt_number": 33
    },
    {
     "cell_type": "code",
     "collapsed": false,
     "input": [
      "live_tweets = [process(tweet) for tweet in live_tweets]\n",
      "    "
     ],
     "language": "python",
     "metadata": {},
     "outputs": [],
     "prompt_number": 34
    },
    {
     "cell_type": "code",
     "collapsed": false,
     "input": [
      "good_tweets=[]\n",
      "for tweet in live_tweets:\n",
      "    isbad=False\n",
      "    tsplit = tweet.split()\n",
      "    print tsplit\n",
      "    for word in tsplit:\n",
      "        print word\n",
      "        if word.lower() in bad_words:\n",
      "            print 'BAD WORD!'\n",
      "            isbad=True\n",
      "            print tweet\n",
      "            break\n",
      "    if isbad==False:\n",
      "        good_tweets.append(tweet)\n",
      "        print 'okay tweet'"
     ],
     "language": "python",
     "metadata": {},
     "outputs": [
      {
       "output_type": "stream",
       "stream": "stdout",
       "text": [
        "['RT', '@', ':', 'I', 'don', \"'\", 't', 'refer', 'to', 'strippers', 'as', 'adult', 'entertainers', '.', 'I', 'refer', 'to', 'them', 'as', 'whores', 'looking', 'For', 'money', '.', '#']\n",
        "RT\n",
        "@\n",
        ":\n",
        "I\n",
        "don\n",
        "'\n",
        "t\n",
        "refer\n",
        "to\n",
        "strippers\n",
        "as\n",
        "adult\n",
        "bad word!\n",
        "RT @   :    I don   '   t refer to strippers as adult entertainers  .   I refer to them as whores looking For money  .   #\n",
        "['RT', '@', ':', 'I', 'love', 'when', 'girls', 'love', 'booster', 'juice', 'and', 'Blue', 'Jays', '.', 'All', 'of', 'the', '\"', 'I', 'love', 'BJ', \"'\", 's', '\"', 'photos', 'makes', 'me', 'happy', 'in', 'the', 'pants', '#\\xe2\\x80\\xa6']\n",
        "RT\n",
        "@\n",
        ":\n",
        "I\n",
        "love\n",
        "when\n",
        "girls\n",
        "love\n",
        "booster\n",
        "juice\n",
        "and\n",
        "Blue\n",
        "Jays\n",
        ".\n",
        "All\n",
        "of\n",
        "the\n",
        "\"\n",
        "I\n",
        "love\n",
        "BJ\n",
        "bad word!\n",
        "RT @   :    I love when girls love booster juice and Blue Jays  .   All of the    \"   I love BJ   '   s   \"    photos makes me happy in the pants #\u2026\n",
        "['ljli', 'fucking']\n",
        "ljli\n",
        "fucking\n",
        "bad word!\n",
        "ljli fucking\n"
       ]
      }
     ],
     "prompt_number": 35
    },
    {
     "cell_type": "code",
     "collapsed": false,
     "input": [],
     "language": "python",
     "metadata": {},
     "outputs": [],
     "prompt_number": 12
    },
    {
     "cell_type": "code",
     "collapsed": false,
     "input": [],
     "language": "python",
     "metadata": {},
     "outputs": []
    }
   ],
   "metadata": {}
  }
 ]
}